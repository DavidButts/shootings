{
 "cells": [
  {
   "cell_type": "code",
   "execution_count": 5,
   "metadata": {},
   "outputs": [],
   "source": [
    "import pandas as pd\n",
    "import datetime as datetime\n",
    "import matplotlib.pyplot as plt\n",
    "import numpy as np\n",
    "import seaborn as sns\n",
    "from ipywidgets import interactive\n",
    "import plotly.express as px"
   ]
  },
  {
   "cell_type": "code",
   "execution_count": 34,
   "metadata": {},
   "outputs": [],
   "source": [
    "# output_notebook()"
   ]
  },
  {
   "cell_type": "code",
   "execution_count": 20,
   "metadata": {},
   "outputs": [],
   "source": [
    "# load dataset SOURCE: https://www.gunviolencearchive.org/reports\n",
    "gva_df = pd.read_csv('./gva.csv')\n",
    "gva_2015 = pd.read_csv('./gva_2015.csv')\n",
    "gva_2014 = pd.read_csv('./gva_2014.csv')\n",
    "gva_2016 = pd.read_csv('./gva_2016.csv')\n",
    "\n",
    "# make date to datetime\n",
    "gva_df['Incident Date'] = pd.to_datetime(gva_df['Incident Date'])\n",
    "\n",
    "gva_df = gva_df[gva_df['Incident Date'] >= datetime.datetime(2017,1,1)]\n",
    "\n",
    "trump = pd.read_csv('./realdonaldtrump.csv')\n",
    "trump['date'] = pd.to_datetime(trump['date'])"
   ]
  },
  {
   "cell_type": "code",
   "execution_count": 21,
   "metadata": {},
   "outputs": [],
   "source": [
    "gva_df = pd.concat([gva_df,gva_2016,gva_2015,gva_2014])"
   ]
  },
  {
   "cell_type": "code",
   "execution_count": 22,
   "metadata": {},
   "outputs": [],
   "source": [
    "# make date to datetime\n",
    "gva_df['Incident Date'] = pd.to_datetime(gva_df['Incident Date'])"
   ]
  },
  {
   "cell_type": "code",
   "execution_count": 24,
   "metadata": {},
   "outputs": [],
   "source": [
    "years = []\n",
    "months = []\n",
    "days = []\n",
    "for i in gva_df['Incident Date']:\n",
    "    years.append(i.year)\n",
    "    months.append(i.month)\n",
    "    days.append(i.day)\n",
    "    \n",
    "# Add data to columns for easy picking\n",
    "gva_df['Year'] = years\n",
    "gva_df['Month'] = months\n",
    "gva_df['Day'] = days"
   ]
  },
  {
   "cell_type": "code",
   "execution_count": 61,
   "metadata": {},
   "outputs": [],
   "source": [
    "def state_plot(state,min_year=2014,max_year=2020):\n",
    "\n",
    "    plt.figure(figsize=(8,5))\n",
    "    S = gva_df[gva_df['State'] == state]\n",
    "    years = range(min_year,max_year+1)\n",
    "    data = []\n",
    "    for y in years:\n",
    "        data.append(len(S[S['Year']==y]))\n",
    "#     plt.plot([2014,2015,2016,2017,2018,2019,2020],[len(S[S['Year']==2014]),\n",
    "#                                                    len(S[S['Year']==2015]),\n",
    "#                                                    len(S[S['Year']==2016]),\n",
    "#                                          len(S[S['Year']==2017]),\n",
    "#                                          len(S[S['Year']==2018]),\n",
    "#                                          len(S[S['Year']==2019]),\n",
    "#                                          len(S[S['Year']==2020])],'.--')\n",
    "\n",
    "    plt.plot(years,data,'.--')\n",
    "    plt.xlabel('Year',fontsize=16)\n",
    "    plt.ylabel('Number of Shootings',fontsize=16)\n",
    "    plt.xticks(years,years);\n",
    "    plt.title(state,fontsize=20)"
   ]
  },
  {
   "cell_type": "code",
   "execution_count": 62,
   "metadata": {},
   "outputs": [
    {
     "data": {
      "application/vnd.jupyter.widget-view+json": {
       "model_id": "709ccf6f2bba49e088e88365301a4d87",
       "version_major": 2,
       "version_minor": 0
      },
      "text/plain": [
       "interactive(children=(Dropdown(description='state', options=('Alabama', 'Alaska', 'Arizona', 'Arkansas', 'Cali…"
      ]
     },
     "metadata": {},
     "output_type": "display_data"
    }
   ],
   "source": [
    "interactive_plot = interactive(state_plot, state=np.unique(gva_df.State), min_year=range(2014,2021),max_year=range(2014,2021))\n",
    "output = interactive_plot.children[-1]\n",
    "output.layout.height = '350px'\n",
    "interactive_plot"
   ]
  },
  {
   "cell_type": "code",
   "execution_count": 28,
   "metadata": {},
   "outputs": [],
   "source": [
    "# years = []\n",
    "# months = []\n",
    "# days = []\n",
    "# for i in trump['date']:\n",
    "#     years.append(i.year)\n",
    "#     months.append(i.month)\n",
    "#     days.append(i.day)\n",
    "    \n",
    "# # Add data to columns for easy picking\n",
    "# trump['Year'] = years\n",
    "# trump['Month'] = months\n",
    "# trump['Day'] = days"
   ]
  },
  {
   "cell_type": "code",
   "execution_count": 38,
   "metadata": {},
   "outputs": [],
   "source": [
    "# gva_df.head()"
   ]
  },
  {
   "cell_type": "code",
   "execution_count": 29,
   "metadata": {},
   "outputs": [],
   "source": [
    "# plt.figure(figsize=(8,5))\n",
    "# plt.plot([2014,2015,2016,2017,2018,2019,2020],[len(gva_df[gva_df['Year']==2014]),\n",
    "#                                      len(gva_df[gva_df['Year']==2015]),\n",
    "#                                      len(gva_df[gva_df['Year']==2016]),\n",
    "#                                      len(gva_df[gva_df['Year']==2017]),\n",
    "#                                      len(gva_df[gva_df['Year']==2018]),\n",
    "#                                      len(gva_df[gva_df['Year']==2019]),\n",
    "#                                      len(gva_df[gva_df['Year']==2020])])\n",
    "\n",
    "# plt.xlabel('Year',fontsize=16)\n",
    "# plt.ylabel('Number of Shootings',fontsize=16)\n",
    "# plt.xticks([2014,2015,2016,2017,2018,2019,2020],[2014,2015,2016,2017,2018,2019,2020]);"
   ]
  },
  {
   "cell_type": "code",
   "execution_count": 30,
   "metadata": {},
   "outputs": [],
   "source": [
    "# plt.figure(figsize=(8,5))\n",
    "# plt.plot([2014,2015,2016,2017,2018,2019,2020],[sum(gva_df[gva_df['Year']==2014]['# Killed']),\n",
    "#                                      sum(gva_df[gva_df['Year']==2015]['# Killed']),\n",
    "#                                      sum(gva_df[gva_df['Year']==2016]['# Killed']),\n",
    "#                                      sum(gva_df[gva_df['Year']==2017]['# Killed']),\n",
    "#                                      sum(gva_df[gva_df['Year']==2018]['# Killed']),\n",
    "#                                      sum(gva_df[gva_df['Year']==2019]['# Killed']),\n",
    "#                                      sum(gva_df[gva_df['Year']==2020]['# Killed'])])\n",
    "\n",
    "# plt.xlabel('Year',fontsize=16)\n",
    "# plt.ylabel('Fatalities',fontsize=16)"
   ]
  },
  {
   "cell_type": "code",
   "execution_count": 31,
   "metadata": {},
   "outputs": [],
   "source": [
    "# plt.figure(figsize=(8,5))\n",
    "# plt.plot([2014,2015,2016,2017,2018,2019,2020],[sum(gva_df[gva_df['Year']==2014]['# Injured']),\n",
    "#                                      sum(gva_df[gva_df['Year']==2015]['# Injured']),\n",
    "#                                      sum(gva_df[gva_df['Year']==2016]['# Injured']),\n",
    "#                                      sum(gva_df[gva_df['Year']==2017]['# Injured']),\n",
    "#                                      sum(gva_df[gva_df['Year']==2018]['# Injured']),\n",
    "#                                      sum(gva_df[gva_df['Year']==2019]['# Injured']),\n",
    "#                                      sum(gva_df[gva_df['Year']==2020]['# Injured'])])\n",
    "\n",
    "# plt.xlabel('Year',fontsize=16)\n",
    "# plt.ylabel('Injuries',fontsize=16)"
   ]
  },
  {
   "cell_type": "code",
   "execution_count": 32,
   "metadata": {},
   "outputs": [],
   "source": [
    "# plt.figure(figsize=(8,5))\n",
    "# plt.plot([2014,2015,2016,2017,2018,2019,2020],np.array([sum(gva_df[gva_df['Year']==2014]['# Killed']),\n",
    "#                                               sum(gva_df[gva_df['Year']==2015]['# Killed']),\n",
    "#                                               sum(gva_df[gva_df['Year']==2016]['# Killed']),\n",
    "#                                      sum(gva_df[gva_df['Year']==2017]['# Killed']),\n",
    "#                                      sum(gva_df[gva_df['Year']==2018]['# Killed']),\n",
    "#                                      sum(gva_df[gva_df['Year']==2019]['# Killed']),\n",
    "#                                      sum(gva_df[gva_df['Year']==2020]['# Killed'])]) +\n",
    "#                                     np.array([sum(gva_df[gva_df['Year']==2014]['# Injured']),\n",
    "#                                               sum(gva_df[gva_df['Year']==2015]['# Injured']),\n",
    "#                                               sum(gva_df[gva_df['Year']==2016]['# Injured']),\n",
    "#                                      sum(gva_df[gva_df['Year']==2017]['# Injured']),\n",
    "#                                      sum(gva_df[gva_df['Year']==2018]['# Injured']),\n",
    "#                                      sum(gva_df[gva_df['Year']==2019]['# Injured']),\n",
    "#                                      sum(gva_df[gva_df['Year']==2020]['# Injured'])]))\n",
    "\n",
    "# plt.xlabel('Year',fontsize=16)\n",
    "# plt.ylabel('Injuries and Fatalities',fontsize=16)"
   ]
  },
  {
   "cell_type": "code",
   "execution_count": 33,
   "metadata": {},
   "outputs": [],
   "source": [
    "# plt.figure(figsize=(15,15))\n",
    "# sns.scatterplot(data=gva_df,x='Incident Date',y=gva_df['# Killed']+gva_df['# Injured'],hue='State')\n",
    "# plt.yscale('log')"
   ]
  },
  {
   "cell_type": "code",
   "execution_count": 34,
   "metadata": {},
   "outputs": [],
   "source": [
    "# np.unique(gva_df.State)"
   ]
  },
  {
   "cell_type": "code",
   "execution_count": 35,
   "metadata": {},
   "outputs": [],
   "source": [
    "\n",
    "# plt.figure(figsize=(8,5))\n",
    "# MI = gva_df[gva_df['State'] == 'Michigan']\n",
    "# plt.plot([2014,2015,2016,2017,2018,2019,2020],[len(MI[MI['Year']==2014]),\n",
    "#                                                len(MI[MI['Year']==2015]),\n",
    "#                                                len(MI[MI['Year']==2016]),\n",
    "#                                      len(MI[MI['Year']==2017]),\n",
    "#                                      len(MI[MI['Year']==2018]),\n",
    "#                                      len(MI[MI['Year']==2019]),\n",
    "#                                      len(MI[MI['Year']==2020])],'.')\n",
    "\n",
    "# plt.xlabel('Year',fontsize=16)\n",
    "# plt.ylabel('Number of Shootings',fontsize=16)\n",
    "# plt.xticks([2014,2015,2016,2017,2018,2019,2020],[2014,2015,2016,2017,2018,2019,2020]);\n",
    "# plt.title('Michigan',fontsize=20)"
   ]
  },
  {
   "cell_type": "code",
   "execution_count": 36,
   "metadata": {},
   "outputs": [],
   "source": [
    "# plt.figure(figsize=(16,10))\n",
    "\n",
    "# m_data = []\n",
    "\n",
    "# for m in range(1,13):\n",
    "#     m_data.append(len(MI[np.logical_and(MI['Year']==2017,MI['Month']==m)]))\n",
    "\n",
    "# for m in range(1,13):\n",
    "#     m_data.append(len(MI[np.logical_and(MI['Year']==2018,MI['Month']==m)]))\n",
    "\n",
    "# for m in range(1,13):\n",
    "#     m_data.append(len(MI[np.logical_and(MI['Year']==2019,MI['Month']==m)]))\n",
    "\n",
    "# for m in range(1,13):\n",
    "#     m_data.append(len(MI[np.logical_and(MI['Year']==2020,MI['Month']==m)]))\n",
    "    \n",
    "# plt.plot(m_data,'.')\n",
    "# plt.xlabel('Year',fontsize=16)\n",
    "# plt.ylabel('Number of Shootings',fontsize=16)\n",
    "# # plt.xticks(range(12*4),['Jan 2019','Feb','Mar','Apr','May','Jun','Jul','Aug','Sep','Oct','Nov','Dec','Jan 2020','Feb','Mar','Apr','May','Jun','Jul','Aug','Sep','Oct','Nov','Dec'],fontsize=14,rotation=45);\n",
    "# plt.xticks([0,12,24,36],['Jan 2017','Jan 2018','Jan 2019','Jan 2020'],fontsize=14,rotation=45);"
   ]
  },
  {
   "cell_type": "code",
   "execution_count": null,
   "metadata": {},
   "outputs": [],
   "source": []
  },
  {
   "cell_type": "code",
   "execution_count": 37,
   "metadata": {},
   "outputs": [],
   "source": [
    "# plt.figure(figsize=(16,10))\n",
    "\n",
    "# m_data = []\n",
    "# t_data = []\n",
    "\n",
    "# for m in range(1,13):\n",
    "#     m_data.append(len(gva_df[np.logical_and(gva_df['Year']==2017,gva_df['Month']==m)]))\n",
    "#     t_data.append(len(trump[np.logical_and(trump['Year']==2017,trump['Month']==m)]))\n",
    "\n",
    "# for m in range(1,13):\n",
    "#     m_data.append(len(gva_df[np.logical_and(gva_df['Year']==2018,gva_df['Month']==m)]))\n",
    "#     t_data.append(len(trump[np.logical_and(trump['Year']==2018,trump['Month']==m)]))\n",
    "\n",
    "# for m in range(1,13):\n",
    "#     m_data.append(len(gva_df[np.logical_and(gva_df['Year']==2019,gva_df['Month']==m)]))\n",
    "#     t_data.append(len(trump[np.logical_and(trump['Year']==2019,trump['Month']==m)]))\n",
    "\n",
    "# for m in range(1,13):\n",
    "#     m_data.append(len(gva_df[np.logical_and(gva_df['Year']==2020,gva_df['Month']==m)]))\n",
    "#     t_data.append(len(trump[np.logical_and(trump['Year']==2020,trump['Month']==m)]))\n",
    "    \n",
    "# plt.plot((np.array(m_data)/max(m_data))[:-7],'-.',label='Number of Shootings')\n",
    "# plt.plot((np.array(t_data)/max(t_data))[:-7],'-.',label='Number of Trump Tweets')\n",
    "# plt.xlabel('Year',fontsize=16)\n",
    "# # plt.ylabel('Number of Shootings',fontsize=16)\n",
    "# # plt.xticks(range(12*4),['Jan 2019','Feb','Mar','Apr','May','Jun','Jul','Aug','Sep','Oct','Nov','Dec','Jan 2020','Feb','Mar','Apr','May','Jun','Jul','Aug','Sep','Oct','Nov','Dec'],fontsize=14,rotation=45);\n",
    "# plt.xticks([0,12,24,36],['Jan 2017','Jan 2018','Jan 2019','Jan 2020'],fontsize=14,rotation=45);\n",
    "# plt.legend(fontsize=16)\n",
    "# plt.ylabel('Count/Max',fontsize=16)"
   ]
  },
  {
   "cell_type": "code",
   "execution_count": 38,
   "metadata": {},
   "outputs": [],
   "source": [
    "# import scipy.stats as stats"
   ]
  },
  {
   "cell_type": "code",
   "execution_count": 39,
   "metadata": {},
   "outputs": [],
   "source": [
    "# ALL_2019_01 = gva_df[np.logical_and(gva_df['Incident Date'] > datetime.datetime(2019, 1, 1),\n",
    "#                      gva_df['Incident Date'] < datetime.datetime(2019, 1, 31))]\n",
    "\n",
    "# ALL_2019_02 = gva_df[np.logical_and(gva_df['Incident Date'] >= datetime.datetime(2019, 2, 1),\n",
    "#                      gva_df['Incident Date'] <= datetime.datetime(2019, 2, 28))]\n",
    "\n",
    "# ALL_2019_03 = gva_df[np.logical_and(gva_df['Incident Date'] >= datetime.datetime(2019, 3, 1),\n",
    "#                      gva_df['Incident Date'] <= datetime.datetime(2019, 3, 31))]\n",
    "\n",
    "# ALL_2019_04 = gva_df[np.logical_and(gva_df['Incident Date'] >= datetime.datetime(2019, 4, 1),\n",
    "#                      gva_df['Incident Date'] <= datetime.datetime(2019, 4, 30))]\n",
    "\n",
    "# ALL_2019_05 = gva_df[np.logical_and(gva_df['Incident Date'] >= datetime.datetime(2019, 3, 1),\n",
    "#                      gva_df['Incident Date'] <= datetime.datetime(2019, 3, 31))]\n",
    "\n",
    "# ALL_2019_06 = gva_df[np.logical_and(gva_df['Incident Date'] >= datetime.datetime(2019, 3, 1),\n",
    "#                      gva_df['Incident Date'] <= datetime.datetime(2019, 3, 30))]\n",
    "\n",
    "# ALL_2019_07 = gva_df[np.logical_and(gva_df['Incident Date'] >= datetime.datetime(2019, 7, 1),\n",
    "#                      gva_df['Incident Date'] <= datetime.datetime(2019, 7, 31))]\n",
    "\n",
    "# ALL_2019_08 = gva_df[np.logical_and(gva_df['Incident Date'] >= datetime.datetime(2019, 8, 1),\n",
    "#                      gva_df['Incident Date'] <= datetime.datetime(2019, 8, 31))]\n",
    "\n",
    "# ALL_2019_09 = gva_df[np.logical_and(gva_df['Incident Date'] >= datetime.datetime(2019, 9, 1),\n",
    "#                      gva_df['Incident Date'] <= datetime.datetime(2019, 9, 30))]\n",
    "\n",
    "# ALL_2019_10 = gva_df[np.logical_and(gva_df['Incident Date'] >= datetime.datetime(2019, 10, 1),\n",
    "#                      gva_df['Incident Date'] <= datetime.datetime(2019, 10, 31))]\n",
    "\n",
    "# ALL_2019_11 = gva_df[np.logical_and(gva_df['Incident Date'] >= datetime.datetime(2019, 11, 1),\n",
    "#                      gva_df['Incident Date'] <= datetime.datetime(2019, 11, 30))]\n",
    "\n",
    "# ALL_2019_12 = gva_df[np.logical_and(gva_df['Incident Date'] >= datetime.datetime(2019, 12, 1),\n",
    "#                      gva_df['Incident Date'] <= datetime.datetime(2019, 12, 31))]\n",
    "# ####\n",
    "# ALL_2020_01 = gva_df[np.logical_and(gva_df['Incident Date'] > datetime.datetime(2020, 1, 1),\n",
    "#                      gva_df['Incident Date'] < datetime.datetime(2020, 1, 31))]\n",
    "\n",
    "# ALL_2020_02 = gva_df[np.logical_and(gva_df['Incident Date'] >= datetime.datetime(2020, 2, 1),\n",
    "#                      gva_df['Incident Date'] <= datetime.datetime(2020, 2, 29))]\n",
    "\n",
    "# ALL_2020_03 = gva_df[np.logical_and(gva_df['Incident Date'] >= datetime.datetime(2020, 3, 1),\n",
    "#                      gva_df['Incident Date'] <= datetime.datetime(2020, 3, 31))]\n",
    "\n",
    "# ALL_2020_04 = gva_df[np.logical_and(gva_df['Incident Date'] >= datetime.datetime(2020, 4, 1),\n",
    "#                      gva_df['Incident Date'] <= datetime.datetime(2020, 4, 30))]\n",
    "\n",
    "# ALL_2020_05 = gva_df[np.logical_and(gva_df['Incident Date'] >= datetime.datetime(2020, 3, 1),\n",
    "#                      gva_df['Incident Date'] <= datetime.datetime(2020, 3, 31))]\n",
    "\n",
    "# ALL_2020_06 = gva_df[np.logical_and(gva_df['Incident Date'] >= datetime.datetime(2020, 3, 1),\n",
    "#                      gva_df['Incident Date'] <= datetime.datetime(2020, 3, 30))]\n",
    "\n",
    "# ALL_2020_07 = gva_df[np.logical_and(gva_df['Incident Date'] >= datetime.datetime(2020, 7, 1),\n",
    "#                      gva_df['Incident Date'] <= datetime.datetime(2020, 7, 31))]\n",
    "\n",
    "# ALL_2020_08 = gva_df[np.logical_and(gva_df['Incident Date'] >= datetime.datetime(2020, 8, 1),\n",
    "#                      gva_df['Incident Date'] <= datetime.datetime(2020, 8, 31))]\n",
    "\n",
    "# ALL_2020_09 = gva_df[np.logical_and(gva_df['Incident Date'] >= datetime.datetime(2020, 9, 1),\n",
    "#                      gva_df['Incident Date'] <= datetime.datetime(2020, 9, 30))]\n",
    "\n",
    "# ALL_2020_10 = gva_df[np.logical_and(gva_df['Incident Date'] >= datetime.datetime(2020, 10, 1),\n",
    "#                      gva_df['Incident Date'] <= datetime.datetime(2020, 10, 31))]\n",
    "\n",
    "# ALL_2020_11 = gva_df[np.logical_and(gva_df['Incident Date'] >= datetime.datetime(2020, 11, 1),\n",
    "#                      gva_df['Incident Date'] <= datetime.datetime(2020, 11, 30))]\n",
    "\n",
    "# ALL_2020_12 = gva_df[np.logical_and(gva_df['Incident Date'] >= datetime.datetime(2020, 12, 1),\n",
    "#                      gva_df['Incident Date'] <= datetime.datetime(2020, 12, 31))]\n",
    "\n",
    "# ALL_2021_01 = gva_df[np.logical_and(gva_df['Incident Date'] >= datetime.datetime(2021, 1, 1),\n",
    "#                      gva_df['Incident Date'] <= datetime.datetime(2021, 1, 31))]\n",
    "\n",
    "# ALL_2021_02 = gva_df[np.logical_and(gva_df['Incident Date'] >= datetime.datetime(2021, 2, 1),\n",
    "#                      gva_df['Incident Date'] <= datetime.datetime(2021, 2, 28))]"
   ]
  },
  {
   "cell_type": "code",
   "execution_count": 40,
   "metadata": {},
   "outputs": [],
   "source": [
    "# plt.figure(figsize=(16,10))\n",
    "# plt.plot([len(ALL_2019_01),len(ALL_2019_02),len(ALL_2019_03),len(ALL_2019_04),len(ALL_2019_05),len(ALL_2019_06),\n",
    "#           len(ALL_2019_07),len(ALL_2019_08),len(ALL_2019_09),len(ALL_2019_10),len(ALL_2019_11),len(ALL_2019_12),\n",
    "#           len(ALL_2020_01),len(ALL_2020_02),len(ALL_2020_03),len(ALL_2020_04),len(ALL_2020_05),len(ALL_2020_06),\n",
    "#           len(ALL_2020_07),len(ALL_2020_08),len(ALL_2020_09),len(ALL_2020_10),len(ALL_2020_11),len(ALL_2020_12),\n",
    "#           len(ALL_2021_01)],'.')\n",
    "\n",
    "# plt.xticks(range(25),['Jan 2019','Feb','Mar','Apr','May','Jun','Jul','Aug','Sep','Oct','Nov','Dec','Jan 2020','Feb','Mar','Apr','May','Jun','Jul','Aug','Sep','Oct','Nov','Dec','Jan 2021'],fontsize=14,rotation=45);\n",
    "# plt.ylabel('Number of Shootings',fontsize=16)\n",
    "# plt.title('Mass Shootings Jan 2019 - Jan 2021 United States',fontsize=20)"
   ]
  },
  {
   "cell_type": "code",
   "execution_count": 41,
   "metadata": {},
   "outputs": [],
   "source": [
    "# https://github.com/pbugnion/voila-gallery/blob/master/country-indicators/index.ipynb"
   ]
  },
  {
   "cell_type": "code",
   "execution_count": null,
   "metadata": {},
   "outputs": [],
   "source": []
  }
 ],
 "metadata": {
  "kernelspec": {
   "display_name": "Python 3",
   "language": "python",
   "name": "python3"
  },
  "language_info": {
   "codemirror_mode": {
    "name": "ipython",
    "version": 3
   },
   "file_extension": ".py",
   "mimetype": "text/x-python",
   "name": "python",
   "nbconvert_exporter": "python",
   "pygments_lexer": "ipython3",
   "version": "3.6.8"
  }
 },
 "nbformat": 4,
 "nbformat_minor": 4
}
